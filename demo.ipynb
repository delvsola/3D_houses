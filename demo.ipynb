{
 "cells": [
  {
   "cell_type": "markdown",
   "metadata": {},
   "source": [
    "# 3D Houses Project"
   ]
  },
  {
   "cell_type": "markdown",
   "metadata": {},
   "source": [
    "3D Houses is a project about understanding and working with Geographic datas and rendering a House in 3D.\n",
    "The geographic datas are obtained from [Geopunt](https://www.geopunt.be/) then stored and served from a personal server using an API made especially for this Project."
   ]
  },
  {
   "cell_type": "markdown",
   "metadata": {},
   "source": [
    "## Demo\n",
    "Simply input an address from Flanders and the corresponding building should appear in an interactive 3D plot."
   ]
  },
  {
   "cell_type": "code",
   "execution_count": 1,
   "metadata": {},
   "outputs": [
    {
     "data": {
      "text/html": [
       "<script>\n",
       "code_show=true; \n",
       "function code_toggle() {\n",
       "    if (code_show){\n",
       "        $('div.cell.code_cell.rendered.selected div.input').hide();\n",
       "    } else {\n",
       "        $('div.cell.code_cell.rendered.selected div.input').show();\n",
       "    }\n",
       "    code_show = !code_show\n",
       "} \n",
       "$( document ).ready(code_toggle);\n",
       "</script>\n",
       "To show/hide this cell's raw code input, click <a href=\"javascript:code_toggle()\">here</a>."
      ],
      "text/plain": [
       "<IPython.core.display.HTML object>"
      ]
     },
     "metadata": {},
     "output_type": "display_data"
    },
    {
     "data": {
      "application/vnd.jupyter.widget-view+json": {
       "model_id": "e882e7ed3ec04362a86ffbe352328c58",
       "version_major": 2,
       "version_minor": 0
      },
      "text/plain": [
       "interactive(children=(Text(value='Korenmarkt 15 9000 Gent', description='address'), Button(description='Run In…"
      ]
     },
     "metadata": {},
     "output_type": "display_data"
    }
   ],
   "source": [
    "import requests\n",
    "import numpy\n",
    "import plotly.graph_objs as go\n",
    "from IPython.display import HTML, display\n",
    "from ipywidgets import interact_manual\n",
    "\n",
    "tag = HTML('''<script>\n",
    "code_show=true; \n",
    "function code_toggle() {\n",
    "    if (code_show){\n",
    "        $('div.cell.code_cell.rendered.selected div.input').hide();\n",
    "    } else {\n",
    "        $('div.cell.code_cell.rendered.selected div.input').show();\n",
    "    }\n",
    "    code_show = !code_show\n",
    "} \n",
    "$( document ).ready(code_toggle);\n",
    "</script>\n",
    "To show/hide this cell's raw code input, click <a href=\"javascript:code_toggle()\">here</a>.''')\n",
    "display(tag)\n",
    "\n",
    "@interact_manual(address='Korenmarkt 15 9000 Gent')\n",
    "def plot_address(address: str):\n",
    "    url = \"http://127.0.0.1:5000/raster\"\n",
    "    params = {\n",
    "        \"address\": address\n",
    "    }\n",
    "    res = requests.get(url, params=params)\n",
    "    chm_list = res.json()\n",
    "    chm_array = numpy.array(chm_list)\n",
    "    render_target = chm_array\n",
    "\n",
    "    binmask = np.where((render_target >= np.mean(render_target)), render_target, 0)\n",
    "\n",
    "    fig = go.Figure(data=[go.Surface(z=binmask)])\n",
    "\n",
    "    fig.update_layout(\n",
    "        title=address, autosize=True,              \n",
    "        width=800,\n",
    "        height=500,\n",
    "        margin=dict(l=65, r=50, b=65, t=90),\n",
    "        scene1_aspectmode='auto'\n",
    "    )\n",
    "    \n",
    "    fig.show()"
   ]
  }
 ],
 "metadata": {
  "kernelspec": {
   "display_name": "Python 3",
   "language": "python",
   "name": "python3"
  },
  "language_info": {
   "codemirror_mode": {
    "name": "ipython",
    "version": 3
   },
   "file_extension": ".py",
   "mimetype": "text/x-python",
   "name": "python",
   "nbconvert_exporter": "python",
   "pygments_lexer": "ipython3",
   "version": "3.7.9"
  }
 },
 "nbformat": 4,
 "nbformat_minor": 1
}
